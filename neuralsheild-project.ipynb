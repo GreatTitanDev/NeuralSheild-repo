{
 "cells": [
  {
   "cell_type": "markdown",
   "id": "ff89494c",
   "metadata": {},
   "source": [
    "# **Email spam classfier: Team tasks**\n",
    "### Let's name it **NeuralSheild**"
   ]
  },
  {
   "cell_type": "markdown",
   "id": "49b9078b",
   "metadata": {},
   "source": [
    "### **From Nimona Engida, team leader**\n",
    "\n",
    "<pre> \n",
    "Hey team! We're building a program that  detects whether an email is a spam or not. \n",
    "Each of you will do one important part. \n",
    "Don't worry I'll guide you through it.\n",
    "</pre>"
   ]
  },
  {
   "cell_type": "markdown",
   "id": "b2ec5e4f",
   "metadata": {},
   "source": [
    "### **Rules**:\n",
    "1. Only work in your assigned section.\n",
    "2. Run all the cells above yours first.\n",
    "3. If you get stuck, use comments(#) what you are trying to do or \n",
    "   what alternative/new method you have used.\n",
    "   Or ask the team leader for help if you get stuck.\n",
    "4. Finish on time so the next person can go."
   ]
  },
  {
   "cell_type": "markdown",
   "id": "10c00993",
   "metadata": {},
   "source": [
    "# **Starter code (Please run this first)**\n",
    "\n",
    "### **Tip:** *#type: ignore* is used to not show error if variable is not assigned(don't worry about it).\n",
    "\n",
    "\n",
    "#### 🚨 ***Note: I assigned your names randomly.***"
   ]
  },
  {
   "cell_type": "code",
   "execution_count": 1,
   "id": "439fa0b0",
   "metadata": {},
   "outputs": [
    {
     "name": "stdout",
     "output_type": "stream",
     "text": [
      "All tools are loaded and ready.\n",
      "You can now start task 1.\n"
     ]
    }
   ],
   "source": [
    "import pandas as pd \n",
    "import numpy as np\n",
    "import re\n",
    "import matplotlib.pyplot as plt\n",
    "%matplotlib inline\n",
    "\n",
    "from sklearn.feature_extraction.text import TfidfVectorizer \n",
    "from sklearn.feature_extraction.text import CountVectorizer\n",
    "from sklearn.model_selection import train_test_split\n",
    "from sklearn.linear_model import LogisticRegression # for now let's use logistic regression, may be later XGBoost\n",
    "from sklearn.metrics import accuracy_score\n",
    "\n",
    "print('All tools are loaded and ready.')\n",
    "print('You can now start task 1.')"
   ]
  },
  {
   "cell_type": "markdown",
   "id": "3a507ce6",
   "metadata": {},
   "source": [
    "In case if you want to know the diffrence between CountVectorizer and TfidfVectorizer:\n",
    "\n",
    "  - **CountVectorizer**: Counts how many times each word appears in a document.\n",
    "  - **TfidfVectorizer**: Also counts word occurrences, but then downweights words that are common across many documents."
   ]
  },
  {
   "cell_type": "markdown",
   "id": "11434b95",
   "metadata": {},
   "source": [
    "## **Task 1: Data Loading & cleaning**\n",
    "\n",
    "**Assigned to**: Hemen \n",
    "\n",
    "**Your Job**: Get our data ready by cleaning up the text messages."
   ]
  },
  {
   "cell_type": "code",
   "execution_count": 6,
   "id": "be0c6757",
   "metadata": {
    "scrolled": true
   },
   "outputs": [
    {
     "name": "stdout",
     "output_type": "stream",
     "text": [
      "First 5 rows of our data:\n",
      "  Category                                            Message\n",
      "0      ham  Go until jurong point, crazy.. Available only ...\n",
      "1      ham                      Ok lar... Joking wif u oni...\n",
      "2     spam  Free entry in 2 a wkly comp to win FA Cup fina...\n",
      "3      ham  U dun say so early hor... U c already then say...\n",
      "4      ham  Nah I don't think he goes to usf, he lives aro...\n",
      "\n",
      "\n",
      "Category\n",
      "ham     19162\n",
      "spam     6758\n",
      "Name: count, dtype: int64\n",
      "\n",
      "\n",
      "🔍 Before vs After cleaning (first 2 messages):\n",
      "ORIGINAL: Go until jurong point, crazy.. Available only in bugis n great world la e buffet... Cine there got amore wat...\n",
      "CLEANED:  go until jurong point crazy available only in bugis n great world la e buffet cine there got amore wat\n",
      "---\n",
      "ORIGINAL: Ok lar... Joking wif u oni...\n",
      "CLEANED:  ok lar joking wif u oni\n",
      "\n",
      "✅ GREAT JOB! TASK 1 COMPLETE!\n",
      "Please tell Team Lead and Teammate 2 you're done\n"
     ]
    }
   ],
   "source": [
    "# ============================================ Task 1 ===================================================================\n",
    "\n",
    "# --- Step 1: Load the data from our file ---\n",
    "df = pd.read_csv('NeuralSheild/data/raw/spam.csv') \n",
    "\n",
    "# Let's see what our data looks like!\n",
    "print(\"First 5 rows of our data:\")\n",
    "print(df.head())  \n",
    "print(\"\\n\")\n",
    "\n",
    "# --- Step 2: Count how many spam vs ham messages we have ---\n",
    "print(df['Category'].value_counts()) \n",
    "print(\"\\n\")\n",
    "\n",
    "# --- Step 3: Clean the text messages ---\n",
    "\n",
    "def clean_text(text):\n",
    "    \"\"\"\n",
    "    Make this function clean our text by:\n",
    "    1. Making everything lowercase\n",
    "    2. Removing punctuation (! , . ? etc.)\n",
    "    3. Removing extra spaces\n",
    "    \"\"\"\n",
    "    text = text.lower() \n",
    "    text = re.sub(r'[^\\w\\s]', '', text)  \n",
    "    text = re.sub(r'\\s+', ' ', text).strip() \n",
    "    return text\n",
    "    \n",
    "# Apply our cleaning function to all messages\n",
    "df['cleaned_text'] = df['Message'].apply(clean_text)    # type: ignore\n",
    "\n",
    "# --- Step 4: Show before and after cleaning(already done) ---\n",
    "print(\"🔍 Before vs After cleaning (first 2 messages):\")\n",
    "print(\"ORIGINAL: \" + df.loc[0, 'Message'])\n",
    "print(\"CLEANED:  \" + df.loc[0, 'cleaned_text'])\n",
    "print(\"---\")\n",
    "print(\"ORIGINAL: \" + df.loc[1, 'Message'])\n",
    "print(\"CLEANED:  \" + df.loc[1, 'cleaned_text'])\n",
    "\n",
    "print(\"\\n✅ GREAT JOB! TASK 1 COMPLETE!\")\n",
    "print(\"Please tell Team Lead and Teammate 2 you're done\")\n",
    "# ======================== ✅ TASK 1 END ========================"
   ]
  },
  {
   "cell_type": "markdown",
   "id": "7654d770",
   "metadata": {},
   "source": [
    "## **Task 2: Preparing Data for the Computer**\n",
    "**Assigned to:** Yanet\n",
    "\n",
    "**Your Job:** Convert words into numbers that the computer can understand."
   ]
  },
  {
   "cell_type": "code",
   "execution_count": 8,
   "id": "7252a6d1",
   "metadata": {},
   "outputs": [
    {
     "name": "stdout",
     "output_type": "stream",
     "text": [
      "We have 25920 messages\n",
      "We're using 500 different words as features\n",
      "\n",
      "\n",
      "First 10 labels:\n",
      "0    0\n",
      "1    0\n",
      "2    1\n",
      "3    0\n",
      "4    0\n",
      "5    1\n",
      "6    0\n",
      "7    0\n",
      "8    1\n",
      "9    1\n",
      "Name: Category, dtype: int64\n",
      "\n",
      "✅ AWESOME! TASK 2 COMPLETE!\n",
      "Please tell Team Lead and Teammate 3 you're done\n"
     ]
    }
   ],
   "source": [
    "# ======================== 🛠️ TASK 2 START ========================\n",
    "# PREREQUISITE: Make sure Teammate 1 has run their cell first!\n",
    "\n",
    "# INSTRUCTIONS: \n",
    "# 1. Read the explanations\n",
    "\n",
    "# --- Step 1: Convert words to numbers ---\n",
    "\n",
    "# Create a word counter (limits to 500 most common words to keep it simple)\n",
    "vectorizer = CountVectorizer(max_features=500)\n",
    "\n",
    "# convert the cleaned messages to numbers\n",
    "X = vectorizer.fit_transform(df['cleaned_text'])\n",
    "\n",
    "print(f\"We have {X.shape[0]} messages\") # Alredy done\n",
    "print(f\"We're using {X.shape[1]} different words as features\")\n",
    "print(\"\\n\")\n",
    "\n",
    "# --- Step 2: Prepare our labels ---\n",
    "# Convert 'ham' to 0 and 'spam' to 1 (computers love numbers!)\n",
    "y = df['Category'].map({'ham': 0, 'spam': 1})\n",
    "\n",
    "print(\"First 10 labels:\")\n",
    "print(y.head(10))  \n",
    "\n",
    "print(\"\\n✅ AWESOME! TASK 2 COMPLETE!\")\n",
    "print(\"Please tell Team Lead and Teammate 3 you're done\")\n",
    "# ======================== ✅ TASK 2 END ========================"
   ]
  },
  {
   "cell_type": "markdown",
   "id": "de5865a2",
   "metadata": {},
   "source": [
    "## **Task 3: Splitting Data & Making Charts**\n",
    "**Assigned to:** Yosef\n",
    "\n",
    "**Your Job:** Split our data and create visualizations to understand it better.\n"
   ]
  },
  {
   "cell_type": "code",
   "execution_count": null,
   "id": "896f9d13",
   "metadata": {},
   "outputs": [],
   "source": [
    "# ======================== 🛠️ TASK 3 START ========================\n",
    "# PREREQUISITE: Make sure Teammate 2 has run their cell first!\n",
    "\n",
    "# INSTRUCTIONS: \n",
    "# 1. Enjoy the charts that appear!\n",
    "\n",
    "# --- Step 1: Split our data into training and testing ---\n",
    "# We'll use 80% for training, 20% for testing\n",
    "\n",
    "X_train, X_test, y_train, y_test =     # type: ignore\n",
    "\n",
    "print(f\"Training messages: {X_train.shape[0]}\") # Already done\n",
    "print(f\"Testing messages: {X_test.shape[0]}\")\n",
    "print(\"\\n\")\n",
    "\n",
    "# --- Step 2: Create cool charts! ---\n",
    "\n",
    "# Chart 1: Spam vs Ham distribution\n",
    "plt.figure(figsize=(12, 4))\n",
    "\n",
    "# First chart - how many spam vs ham. Write the code below.\n",
    "\n",
    "# Add numbers on top of bars. Write the code below.\n",
    "\n",
    "# Second chart - training vs test split. Write the code below.\n",
    "\n",
    "# Add numbers on top of bars. Write the code below.\n",
    "\n",
    "\n",
    "plt.tight_layout()\n",
    "plt.show()\n",
    "\n",
    "print(\"✅ FANTASTIC! TASK 3 COMPLETE!\")\n",
    "print(\"Please tell Team Lead and Teammate 4 you're done\")\n",
    "# ======================== ✅ TASK 3 END ========================"
   ]
  },
  {
   "cell_type": "markdown",
   "id": "78fee61f",
   "metadata": {},
   "source": [
    "## **Task 4: Training Our Spam Detective**\n",
    "**Assigned to:** Sumeya\n",
    "\n",
    "**Your Job:** Train our computer model to recognize spam!"
   ]
  },
  {
   "cell_type": "code",
   "execution_count": null,
   "id": "97c20177",
   "metadata": {},
   "outputs": [],
   "source": [
    "# ======================== 🛠️ TASK 4 START ========================\n",
    "# PREREQUISITE: Make sure Teammate 3 has run their cell first!\n",
    "\n",
    "# INSTRUCTIONS: \n",
    "# 1. See how smart our model becomes!\n",
    "\n",
    "# --- Step 1: Create and train our spam detective ---\n",
    "# Create a Logistic Regression model (great for yes/no questions). Max iteration 1000\n",
    "model =      # type: ignore\n",
    "\n",
    "# Train/fit the model with our training data\n",
    "\n",
    "\n",
    "print(\"✅ Training complete! Our model is ready!\")\n",
    "print(\"\\n\")\n",
    "\n",
    "# --- Step 2: Check how well our model learned ---\n",
    "# See how accurate our model is on the training data\n",
    "train_predictions =     # type: ignore\n",
    "train_accuracy =        # type: ignore\n",
    "\n",
    "print(f\"Training Accuracy: {train_accuracy:.1%}\")\n",
    "print(\"(This shows how well our model learned from the training data)\")\n",
    "\n",
    "print(\"\\n🎉 INCREDIBLE! TASK 4 COMPLETE!\")\n",
    "print(\"Please tell Team Lead you're done!\")\n",
    "# ======================== ✅ TASK 4 END ========================"
   ]
  },
  {
   "cell_type": "markdown",
   "id": "619a828e",
   "metadata": {},
   "source": [
    "# ======= 🚀 TEAM LEADER SECTION =======\n",
    "# Amazing work team!\n",
    "\n",
    "### ***As team leader my tasks are:***\n",
    "- Building GUI desktop app for the spam detector (already done)\n",
    "- Developing CLI app for the spam detector (under active development)\n",
    "- Develping public website for the spam detector (under active development)\n",
    "- Building the cross-platform spam detector module (80% complete)\n",
    "- Develping browser extension for the spam detector (under active development)\n",
    "- Trainig the model on many social media platforms spam datasets (under active development) and\n",
    "- More."
   ]
  }
 ],
 "metadata": {
  "kernelspec": {
   "display_name": "Python 3",
   "language": "python",
   "name": "python3"
  },
  "language_info": {
   "codemirror_mode": {
    "name": "ipython",
    "version": 3
   },
   "file_extension": ".py",
   "mimetype": "text/x-python",
   "name": "python",
   "nbconvert_exporter": "python",
   "pygments_lexer": "ipython3",
   "version": "3.13.5"
  }
 },
 "nbformat": 4,
 "nbformat_minor": 5
}
